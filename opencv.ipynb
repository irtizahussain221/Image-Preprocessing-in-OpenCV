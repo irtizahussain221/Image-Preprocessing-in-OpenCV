{
 "cells": [
  {
   "cell_type": "code",
   "execution_count": 18,
   "metadata": {},
   "outputs": [],
   "source": [
    "import cv2\n",
    "import numpy as np\n",
    "from scipy import convolve"
   ]
  },
  {
   "cell_type": "code",
   "execution_count": 19,
   "metadata": {},
   "outputs": [
    {
     "name": "stdout",
     "output_type": "stream",
     "text": [
      "The image is 397 x 312 pixels and has 3 channels\n",
      "The pixel at (0, 0) has the RGB values: 62, 50, 50\n"
     ]
    }
   ],
   "source": [
    "# Read an image and determine its shape\n",
    "img = cv2.imread(\"images/2.jpg\")\n",
    "h, w, d = img.shape\n",
    "print(f\"The image is {h} x {w} pixels and has {d} channels\")\n",
    "\n",
    "# Extract the rgb value of a pixel at (0, 0) in an image\n",
    "b, g, r = img[0, 0]\n",
    "print(f\"The pixel at (0, 0) has the RGB values: {r}, {g}, {b}\")\n",
    "\n",
    "# Extract a portion of an image\n",
    "roi = img[100:200, 100:200]\n",
    "blue_channel = roi[:, :, 0]\n",
    "green_channel = roi[:, :, 1]\n",
    "red_channel = roi[:, :, 2]\n",
    "\n",
    "# Display the portion's individual channels\n",
    "blue_roi = np.zeros_like(roi)\n",
    "green_roi = np.zeros_like(roi)\n",
    "red_roi = np.zeros_like(roi)\n",
    "\n",
    "blue_roi[:, :, 0] = blue_channel\n",
    "green_roi[:, :, 1] = green_channel\n",
    "red_roi[:, :, 2] = red_channel\n",
    "\n",
    "cv2.imshow(\"bROI\", blue_roi)\n",
    "cv2.imshow(\"rROI\", green_roi)\n",
    "cv2.imshow(\"gROI\", red_roi)\n",
    "\n",
    "cv2.waitKey(0)\n",
    "cv2.destroyAllWindows()"
   ]
  },
  {
   "cell_type": "code",
   "execution_count": 20,
   "metadata": {},
   "outputs": [
    {
     "name": "stdout",
     "output_type": "stream",
     "text": [
      "Original size of the image:  (397, 312, 3)\n",
      "Resized image:  (100, 100, 3)\n"
     ]
    }
   ],
   "source": [
    "img = cv2.imread(\"images/2.jpg\")\n",
    "print(\"Original size of the image: \", img.shape)\n",
    "\n",
    "resized_img = cv2.resize(img, (100, 100))\n",
    "print(\"Resized image: \", resized_img.shape)\n",
    "\n",
    "cv2.imshow(\"Original Image\", img)\n",
    "cv2.imshow(\"Resized Image\", resized_img)\n",
    "cv2.waitKey(0)\n",
    "cv2.destroyAllWindows()"
   ]
  },
  {
   "cell_type": "code",
   "execution_count": 21,
   "metadata": {},
   "outputs": [],
   "source": [
    "# Blur an image\n",
    "blurred_img = cv2.GaussianBlur(resized_img, (3, 3), 0)\n",
    "cv2.imshow(\"Blurred Image\", blurred_img)\n",
    "cv2.waitKey(0)\n",
    "cv2.destroyAllWindows()"
   ]
  },
  {
   "cell_type": "code",
   "execution_count": 22,
   "metadata": {},
   "outputs": [],
   "source": [
    "# Rotate an image\n",
    "(h, w) = img.shape[:2]\n",
    "center = (w // 2, h // 2)\n",
    "M = cv2.getRotationMatrix2D(center=center, angle=45, scale=1)\n",
    "rotated = cv2.warpAffine(img, M, (w, h))\n",
    "cv2.imshow(\"Rotated image\", rotated)\n",
    "cv2.waitKey(0)\n",
    "cv2.destroyAllWindows()"
   ]
  },
  {
   "cell_type": "code",
   "execution_count": 23,
   "metadata": {},
   "outputs": [],
   "source": [
    "# Adding a line to image\n",
    "output = img.copy()\n",
    "cv2.line(output, (0, 0), (100, 100), (0, 0, 255), 4)\n",
    "cv2.imshow(\"Line output\", output)\n",
    "cv2.waitKey(0)\n",
    "cv2.destroyAllWindows()"
   ]
  },
  {
   "cell_type": "code",
   "execution_count": 24,
   "metadata": {},
   "outputs": [],
   "source": [
    "# Simple object detection\n",
    "image = cv2.imread(\"images/image.png\")\n",
    "cv2.imshow(\"Original Image\", image)\n",
    "cv2.waitKey(0)\n",
    "cv2.destroyAllWindows()"
   ]
  },
  {
   "cell_type": "code",
   "execution_count": 25,
   "metadata": {},
   "outputs": [],
   "source": [
    "# Convolving an image with a 2d filter to detect vertical edges\n",
    "original_img = cv2.imread(\"images/image.png\")\n",
    "gray_img = cv2.imread(\"images/image.png\", cv2.IMREAD_GRAYSCALE)\n",
    "kernel = np.array([[1, 0, -1], [1, 0, -1], [1, 0, -1]])\n",
    "convolved_img = cv2.filter2D(src=gray_img, ddepth=-1, kernel=kernel)\n",
    "cv2.imshow(\"Original Image\", original_img)\n",
    "cv2.imshow(\"Gray Scale Image\", gray_img)\n",
    "cv2.imshow(\"Convolved Image\", convolved_img)\n",
    "cv2.waitKey(0)\n",
    "cv2.destroyAllWindows()"
   ]
  },
  {
   "cell_type": "code",
   "execution_count": 26,
   "metadata": {},
   "outputs": [],
   "source": [
    "# Convolving an image with a 2d filter to detect horizontal edges\n",
    "original_img = cv2.imread(\"images/image.png\")\n",
    "gray_img = cv2.imread(\"images/image.png\", cv2.IMREAD_GRAYSCALE)\n",
    "kernel = np.array([[-1, -1, -1], [0, 0, 0], [1, 1, 1]])\n",
    "convolved_img = cv2.filter2D(src=gray_img, ddepth=-1, kernel=kernel)\n",
    "cv2.imshow(\"Original Image\", original_img)\n",
    "cv2.imshow(\"Gray Scale Image\", gray_img)\n",
    "cv2.imshow(\"Convolved Image\", convolved_img)\n",
    "cv2.waitKey(0)\n",
    "cv2.destroyAllWindows()"
   ]
  },
  {
   "cell_type": "code",
   "execution_count": 27,
   "metadata": {},
   "outputs": [
    {
     "name": "stdout",
     "output_type": "stream",
     "text": [
      "(314, 500, 3)\n"
     ]
    }
   ],
   "source": [
    "# Convolving an image with a 3d filter to detect horizontal edges\n",
    "original_img = cv2.imread(\"images/image.png\")\n",
    "kernel_3d = np.array(\n",
    "    [\n",
    "        [[1, 0, -1], [1, 0, -1], [1, 0, -1]],\n",
    "        [[0, 0, 0], [0, 0, 0], [0, 0, 0]],\n",
    "        [[-1, 0, 1], [-1, 0, 1], [-1, 0, 1]],\n",
    "    ],\n",
    "    dtype=np.float32,\n",
    ")\n",
    "\n",
    "b_channel, r_channel, g_channel = [\n",
    "    original_img[:, :, 0],\n",
    "    original_img[:, :, 1],\n",
    "    original_img[:, :, 2],\n",
    "]\n",
    "blue_kernel, red_kernel, green_kernel = cv2.split(kernel_3d)\n",
    "\n",
    "blue_filtered = cv2.filter2D(b_channel, -1, blue_kernel)\n",
    "red_filtered = cv2.filter2D(r_channel, -1, red_kernel)\n",
    "green_filtered = cv2.filter2D(g_channel, -1, green_kernel)\n",
    "convolved_img = cv2.merge((blue_filtered, red_filtered, green_filtered))\n",
    "print(convolved_img.shape)\n",
    "\n",
    "cv2.imshow(\"original_img\", original_img)\n",
    "cv2.imshow(\"convolved_img\", convolved_img)\n",
    "cv2.waitKey(0)\n",
    "cv2.destroyAllWindows()"
   ]
  }
 ],
 "metadata": {
  "kernelspec": {
   "display_name": "base",
   "language": "python",
   "name": "python3"
  },
  "language_info": {
   "codemirror_mode": {
    "name": "ipython",
    "version": 3
   },
   "file_extension": ".py",
   "mimetype": "text/x-python",
   "name": "python",
   "nbconvert_exporter": "python",
   "pygments_lexer": "ipython3",
   "version": "3.9.7"
  }
 },
 "nbformat": 4,
 "nbformat_minor": 2
}
